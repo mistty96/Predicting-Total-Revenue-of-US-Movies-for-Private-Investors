{
 "cells": [
  {
   "cell_type": "code",
   "execution_count": null,
   "id": "84f63ced",
   "metadata": {},
   "outputs": [],
   "source": [
    "import requests\n",
    "import time, os\n",
    "import re\n",
    "import pandas as pd \n",
    "import numpy as np\n",
    "import pickle\n",
    "import matplotlib.pyplot as plt\n",
    "%matplotlib inline\n",
    "import seaborn as sns\n",
    "import math\n",
    "import patsy\n",
    "import scipy.stats as stats\n",
    "import statsmodels.api as sm\n",
    "from sklearn import linear_model, model_selection\n",
    "from sklearn.model_selection import train_test_split, cross_val_score, KFold\n",
    "from sklearn.metrics import mean_squared_error, r2_score, mean_absolute_error\n",
    "from sklearn.linear_model import LinearRegression ,Ridge, RidgeCV, Lasso, LassoCV, ElasticNet, ElasticNetCV\n",
    "from sklearn.preprocessing import StandardScaler, PolynomialFeatures\n"
   ]
  },
  {
   "cell_type": "code",
   "execution_count": null,
   "id": "3a749b05",
   "metadata": {},
   "outputs": [],
   "source": [
    "#import kaggle and merge on webscraped csv"
   ]
  },
  {
   "cell_type": "code",
   "execution_count": null,
   "id": "a1bbd209",
   "metadata": {},
   "outputs": [],
   "source": [
    "kaggle = pd.read_csv('movies.csv')\n",
    "kaggle.head()"
   ]
  },
  {
   "cell_type": "code",
   "execution_count": null,
   "id": "df8544f5",
   "metadata": {},
   "outputs": [],
   "source": [
    "kaggle.dtypes"
   ]
  },
  {
   "cell_type": "code",
   "execution_count": null,
   "id": "b5b6433b",
   "metadata": {},
   "outputs": [],
   "source": [
    "m = kaggle[kaggle['name'] =='Taken']\n",
    "\n",
    "m"
   ]
  },
  {
   "cell_type": "code",
   "execution_count": null,
   "id": "a58aa57d",
   "metadata": {},
   "outputs": [],
   "source": [
    "m = kaggle[kaggle['name'] =='Arctic']\n",
    "\n",
    "m"
   ]
  },
  {
   "cell_type": "code",
   "execution_count": null,
   "id": "f2fc2f8a",
   "metadata": {},
   "outputs": [],
   "source": [
    "#drop values not needed bc will merge \n",
    "kaggle.drop(['rating', 'released', 'score', 'votes', 'writer', 'country','gross', 'runtime'], axis = 1, inplace=True)"
   ]
  },
  {
   "cell_type": "code",
   "execution_count": null,
   "id": "a94c4db8",
   "metadata": {},
   "outputs": [],
   "source": [
    "kaggle.head()"
   ]
  },
  {
   "cell_type": "code",
   "execution_count": null,
   "id": "21a5e64f",
   "metadata": {},
   "outputs": [],
   "source": [
    "#replace budget to int\n",
    "\n",
    "kaggle.info()\n"
   ]
  },
  {
   "cell_type": "code",
   "execution_count": null,
   "id": "d1bf0053",
   "metadata": {},
   "outputs": [],
   "source": [
    "kaggle.replace(np.nan, 0, inplace = True)\n",
    "\n",
    "\n",
    "\n",
    "kaggle.info()"
   ]
  },
  {
   "cell_type": "code",
   "execution_count": null,
   "id": "868d0004",
   "metadata": {},
   "outputs": [],
   "source": [
    "#change budget to int64 \n",
    "\n",
    "kaggle['budget']= kaggle['budget'].astype('int64')\n",
    "\n",
    "kaggle.dtypes"
   ]
  },
  {
   "cell_type": "code",
   "execution_count": null,
   "id": "689ce09a",
   "metadata": {},
   "outputs": [],
   "source": [
    "# rename to merge with webscraped csv\n",
    "\n",
    "kaggle.rename(columns={'year': 'year_', 'budget': 'budget_', 'genre': 'genre_'}, inplace=True)\n"
   ]
  },
  {
   "cell_type": "code",
   "execution_count": null,
   "id": "a5dc2710",
   "metadata": {},
   "outputs": [],
   "source": []
  },
  {
   "cell_type": "code",
   "execution_count": null,
   "id": "b7540446",
   "metadata": {},
   "outputs": [],
   "source": [
    "kaggle.head()"
   ]
  },
  {
   "cell_type": "code",
   "execution_count": null,
   "id": "10b51106",
   "metadata": {},
   "outputs": [],
   "source": [
    "kaggle.shape"
   ]
  },
  {
   "cell_type": "code",
   "execution_count": null,
   "id": "a994e222",
   "metadata": {},
   "outputs": [],
   "source": []
  },
  {
   "cell_type": "code",
   "execution_count": null,
   "id": "d9d49c34",
   "metadata": {},
   "outputs": [],
   "source": [
    "# load webscraped csv\n",
    "\n",
    "df = pd.read_csv('webscraped.csv')\n",
    "df.head()"
   ]
  },
  {
   "cell_type": "code",
   "execution_count": null,
   "id": "0dbd792c",
   "metadata": {},
   "outputs": [],
   "source": [
    "m = df[df['title'] =='Arctic 2019 Re']\n",
    "m"
   ]
  },
  {
   "cell_type": "code",
   "execution_count": null,
   "id": "0e1847e2",
   "metadata": {},
   "outputs": [],
   "source": [
    "df.shape"
   ]
  },
  {
   "cell_type": "code",
   "execution_count": null,
   "id": "16e12637",
   "metadata": {},
   "outputs": [],
   "source": [
    "#merge df to kaggle df \n",
    "\n",
    "movie_df = df.merge(kaggle, how='left', left_on=['title'], right_on=['name'])\n",
    "movie_df.head(10)"
   ]
  },
  {
   "cell_type": "code",
   "execution_count": null,
   "id": "ca2e097e",
   "metadata": {},
   "outputs": [],
   "source": [
    "movie_df.shape"
   ]
  },
  {
   "cell_type": "code",
   "execution_count": null,
   "id": "c5b66239",
   "metadata": {},
   "outputs": [],
   "source": [
    "movie_df.tail"
   ]
  },
  {
   "cell_type": "code",
   "execution_count": null,
   "id": "283544b2",
   "metadata": {},
   "outputs": [],
   "source": [
    "#get rid of duplicated columns \n",
    "movie_df.drop(['name', 'genre_', 'year_','company'], axis = 1, inplace = True)\n",
    "movie_df"
   ]
  },
  {
   "cell_type": "code",
   "execution_count": null,
   "id": "a0189925",
   "metadata": {},
   "outputs": [],
   "source": []
  },
  {
   "cell_type": "code",
   "execution_count": null,
   "id": "a1f47589",
   "metadata": {},
   "outputs": [],
   "source": [
    "m = movie_df[movie_df['title'] =='Taken']\n",
    "m"
   ]
  },
  {
   "cell_type": "code",
   "execution_count": null,
   "id": "57dbac13",
   "metadata": {},
   "outputs": [],
   "source": [
    "m = movie_df[movie_df['budget'] == 0]\n",
    "m"
   ]
  },
  {
   "cell_type": "code",
   "execution_count": null,
   "id": "2b7545a7",
   "metadata": {},
   "outputs": [],
   "source": [
    "m = movie_df[movie_df['budget'] !=0]\n",
    "m"
   ]
  },
  {
   "cell_type": "code",
   "execution_count": null,
   "id": "df0b8641",
   "metadata": {},
   "outputs": [],
   "source": [
    "movie_df.replace(np.nan, 0, inplace = True)\n",
    "\n",
    "movie_df.info()"
   ]
  },
  {
   "cell_type": "code",
   "execution_count": null,
   "id": "72262025",
   "metadata": {},
   "outputs": [],
   "source": [
    "#check if any values are null \n",
    "movie_df.isnull().values.any()\n"
   ]
  },
  {
   "cell_type": "code",
   "execution_count": null,
   "id": "d371edd3",
   "metadata": {},
   "outputs": [],
   "source": [
    "#replace budget_ as int \n",
    "\n",
    "movie_df['budget_']= movie_df['budget_'].astype('int64')\n",
    "\n",
    "\n",
    "\n",
    "movie_df.dtypes"
   ]
  },
  {
   "cell_type": "code",
   "execution_count": null,
   "id": "cd406206",
   "metadata": {},
   "outputs": [],
   "source": []
  },
  {
   "cell_type": "code",
   "execution_count": null,
   "id": "0ce24176",
   "metadata": {},
   "outputs": [],
   "source": [
    "movie_df"
   ]
  },
  {
   "cell_type": "code",
   "execution_count": null,
   "id": "51ef5e62",
   "metadata": {},
   "outputs": [],
   "source": [
    "movie_df[(movie_df['budget_'] != 0) & (movie_df['budget'] == 0)]\n"
   ]
  },
  {
   "cell_type": "code",
   "execution_count": null,
   "id": "da8b54bc",
   "metadata": {},
   "outputs": [],
   "source": [
    "movie_df[(movie_df['budget'] == 0)]\n"
   ]
  },
  {
   "cell_type": "code",
   "execution_count": null,
   "id": "8d415293",
   "metadata": {},
   "outputs": [],
   "source": [
    "movie_df[(movie_df['budget'] != 0)]\n"
   ]
  },
  {
   "cell_type": "code",
   "execution_count": null,
   "id": "99e8890c",
   "metadata": {},
   "outputs": [],
   "source": [
    "# If the column havs NaNs instead of '' then use : \n",
    "mask1 =  movie_df['budget'] == 0  # A not empty\n",
    "mask2 = movie_df['budget_'] !=0  # B not empty\n",
    "\n",
    "\n",
    "# If budget == 0 and budget_ != 0 will replace budget to budget_ and C are not empty, A = C, else A keep its value \n",
    "movie_df['budget'] = np.where(mask1 & mask2, movie_df['budget_'], movie_df['budget'])\n",
    "\n",
    "movie_df"
   ]
  },
  {
   "cell_type": "code",
   "execution_count": null,
   "id": "fe119508",
   "metadata": {},
   "outputs": [],
   "source": [
    "movie_df[(movie_df['budget_'] != 0) & (movie_df['budget'] == 0)]\n"
   ]
  },
  {
   "cell_type": "code",
   "execution_count": null,
   "id": "f1942d81",
   "metadata": {},
   "outputs": [],
   "source": [
    "movie_df[(movie_df['budget'] == 0)]\n"
   ]
  },
  {
   "cell_type": "code",
   "execution_count": null,
   "id": "9a44db88",
   "metadata": {},
   "outputs": [],
   "source": [
    "#drop budget_ column \n",
    "\n",
    "movie_df.drop(['budget_'], axis = 1, inplace= True)\n",
    "movie_df"
   ]
  },
  {
   "cell_type": "code",
   "execution_count": null,
   "id": "f832cbb9",
   "metadata": {},
   "outputs": [],
   "source": [
    "movie_df[(movie_df['budget'] == 0)]"
   ]
  },
  {
   "cell_type": "code",
   "execution_count": null,
   "id": "ae9273e1",
   "metadata": {},
   "outputs": [],
   "source": [
    "#drop rows where budget is 0 \n",
    "\n",
    "movie_df.drop(movie_df[movie_df['budget'] == 0].index, inplace = True)\n",
    "\n"
   ]
  },
  {
   "cell_type": "code",
   "execution_count": null,
   "id": "e623053d",
   "metadata": {},
   "outputs": [],
   "source": [
    "movie_df.shape"
   ]
  },
  {
   "cell_type": "code",
   "execution_count": null,
   "id": "08f4d4a3",
   "metadata": {},
   "outputs": [],
   "source": [
    "movie_df.duplicated(subset=['title', 'year']).sum()"
   ]
  },
  {
   "cell_type": "code",
   "execution_count": null,
   "id": "11881be4",
   "metadata": {},
   "outputs": [],
   "source": [
    "movie_df.drop_duplicates(subset=['title', 'year'], inplace = True)\n"
   ]
  },
  {
   "cell_type": "code",
   "execution_count": null,
   "id": "cf22ff73",
   "metadata": {},
   "outputs": [],
   "source": [
    "movie_df.shape"
   ]
  },
  {
   "cell_type": "code",
   "execution_count": null,
   "id": "47733104",
   "metadata": {},
   "outputs": [],
   "source": [
    "movie_df"
   ]
  },
  {
   "cell_type": "code",
   "execution_count": null,
   "id": "4346d2ef",
   "metadata": {},
   "outputs": [],
   "source": [
    "movie_df.info()"
   ]
  },
  {
   "cell_type": "code",
   "execution_count": null,
   "id": "0d410d8c",
   "metadata": {},
   "outputs": [],
   "source": [
    "#save as pickle \n",
    "\n",
    "movie_df.to_pickle('movie_clean.pkl')"
   ]
  },
  {
   "cell_type": "code",
   "execution_count": null,
   "id": "2ecb3ce1",
   "metadata": {},
   "outputs": [],
   "source": [
    "#save as csv \n",
    "\n",
    "movie_df.to_csv('movie_cleaned.csv', index = False)"
   ]
  },
  {
   "cell_type": "code",
   "execution_count": null,
   "id": "9d1ce0ba",
   "metadata": {},
   "outputs": [],
   "source": []
  }
 ],
 "metadata": {
  "kernelspec": {
   "display_name": "Python 3 (regression)",
   "language": "python",
   "name": "regression"
  },
  "language_info": {
   "codemirror_mode": {
    "name": "ipython",
    "version": 3
   },
   "file_extension": ".py",
   "mimetype": "text/x-python",
   "name": "python",
   "nbconvert_exporter": "python",
   "pygments_lexer": "ipython3",
   "version": "3.9.12"
  }
 },
 "nbformat": 4,
 "nbformat_minor": 5
}
