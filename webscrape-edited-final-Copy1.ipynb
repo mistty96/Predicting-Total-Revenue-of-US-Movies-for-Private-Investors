{
 "cells": [
  {
   "cell_type": "code",
   "execution_count": 11,
   "id": "f7f08409",
   "metadata": {},
   "outputs": [],
   "source": [
    "from bs4 import BeautifulSoup as bs\n",
    "import requests\n",
    "import time, os\n",
    "import re\n",
    "import pandas as pd \n",
    "import pickle\n",
    "import dateutil.parser\n",
    "\n"
   ]
  },
  {
   "cell_type": "code",
   "execution_count": 12,
   "id": "7ed86eed",
   "metadata": {},
   "outputs": [],
   "source": [
    "df = pd.read_csv('movie_cleaned.csv')"
   ]
  },
  {
   "cell_type": "code",
   "execution_count": 13,
   "id": "fc83bd6a",
   "metadata": {},
   "outputs": [
    {
     "name": "stdout",
     "output_type": "stream",
     "text": [
      "<class 'pandas.core.frame.DataFrame'>\n",
      "RangeIndex: 1629 entries, 0 to 1628\n",
      "Data columns (total 13 columns):\n",
      " #   Column          Non-Null Count  Dtype \n",
      "---  ------          --------------  ----- \n",
      " 0   title           1629 non-null   object\n",
      " 1   year            1629 non-null   int64 \n",
      " 2   domestic_gross  1629 non-null   int64 \n",
      " 3   foreign_gross   1629 non-null   int64 \n",
      " 4   total_gross     1629 non-null   int64 \n",
      " 5   budget          1629 non-null   int64 \n",
      " 6   opening         1629 non-null   int64 \n",
      " 7   distributor     1629 non-null   object\n",
      " 8   mpaa            1629 non-null   object\n",
      " 9   runtime         1629 non-null   int64 \n",
      " 10  genre           1629 non-null   object\n",
      " 11  director        1629 non-null   object\n",
      " 12  star            1629 non-null   object\n",
      "dtypes: int64(7), object(6)\n",
      "memory usage: 165.6+ KB\n"
     ]
    }
   ],
   "source": [
    "df.info()"
   ]
  },
  {
   "cell_type": "code",
   "execution_count": 16,
   "id": "5a6e0828",
   "metadata": {},
   "outputs": [
    {
     "data": {
      "text/html": [
       "<div>\n",
       "<style scoped>\n",
       "    .dataframe tbody tr th:only-of-type {\n",
       "        vertical-align: middle;\n",
       "    }\n",
       "\n",
       "    .dataframe tbody tr th {\n",
       "        vertical-align: top;\n",
       "    }\n",
       "\n",
       "    .dataframe thead th {\n",
       "        text-align: right;\n",
       "    }\n",
       "</style>\n",
       "<table border=\"1\" class=\"dataframe\">\n",
       "  <thead>\n",
       "    <tr style=\"text-align: right;\">\n",
       "      <th></th>\n",
       "      <th>title</th>\n",
       "      <th>year</th>\n",
       "      <th>domestic_gross</th>\n",
       "      <th>foreign_gross</th>\n",
       "      <th>total_gross</th>\n",
       "      <th>budget</th>\n",
       "      <th>opening</th>\n",
       "      <th>distributor</th>\n",
       "      <th>mpaa</th>\n",
       "      <th>runtime</th>\n",
       "      <th>genre</th>\n",
       "      <th>director</th>\n",
       "      <th>star</th>\n",
       "    </tr>\n",
       "  </thead>\n",
       "  <tbody>\n",
       "    <tr>\n",
       "      <th>470</th>\n",
       "      <td>Sea Rex 3D: Journey to a Prehistoric World</td>\n",
       "      <td>2010</td>\n",
       "      <td>6096582</td>\n",
       "      <td>9907568</td>\n",
       "      <td>16004150</td>\n",
       "      <td>5000000</td>\n",
       "      <td>0</td>\n",
       "      <td>3D Entertainment</td>\n",
       "      <td>Not Rated</td>\n",
       "      <td>41</td>\n",
       "      <td>Documentary</td>\n",
       "      <td>0</td>\n",
       "      <td>0</td>\n",
       "    </tr>\n",
       "    <tr>\n",
       "      <th>1183</th>\n",
       "      <td>The Lady in the Van</td>\n",
       "      <td>2015</td>\n",
       "      <td>10021175</td>\n",
       "      <td>31366512</td>\n",
       "      <td>41387687</td>\n",
       "      <td>6000000</td>\n",
       "      <td>0</td>\n",
       "      <td>Sony Pictures Classics</td>\n",
       "      <td>PG-13</td>\n",
       "      <td>104</td>\n",
       "      <td>Biography</td>\n",
       "      <td>Nicholas Hytner</td>\n",
       "      <td>Maggie Smith</td>\n",
       "    </tr>\n",
       "    <tr>\n",
       "      <th>1203</th>\n",
       "      <td>Batman: The Killing Joke</td>\n",
       "      <td>2016</td>\n",
       "      <td>3775000</td>\n",
       "      <td>687034</td>\n",
       "      <td>4462034</td>\n",
       "      <td>3500000</td>\n",
       "      <td>0</td>\n",
       "      <td>Fathom Events</td>\n",
       "      <td>R</td>\n",
       "      <td>76</td>\n",
       "      <td>Action</td>\n",
       "      <td>Sam Liu</td>\n",
       "      <td>Kevin Conroy</td>\n",
       "    </tr>\n",
       "  </tbody>\n",
       "</table>\n",
       "</div>"
      ],
      "text/plain": [
       "                                           title  year  domestic_gross  \\\n",
       "470   Sea Rex 3D: Journey to a Prehistoric World  2010         6096582   \n",
       "1183                         The Lady in the Van  2015        10021175   \n",
       "1203                    Batman: The Killing Joke  2016         3775000   \n",
       "\n",
       "      foreign_gross  total_gross   budget  opening             distributor  \\\n",
       "470         9907568     16004150  5000000        0        3D Entertainment   \n",
       "1183       31366512     41387687  6000000        0  Sony Pictures Classics   \n",
       "1203         687034      4462034  3500000        0           Fathom Events   \n",
       "\n",
       "           mpaa  runtime        genre         director          star  \n",
       "470   Not Rated       41  Documentary                0             0  \n",
       "1183      PG-13      104    Biography  Nicholas Hytner  Maggie Smith  \n",
       "1203          R       76       Action          Sam Liu  Kevin Conroy  "
      ]
     },
     "execution_count": 16,
     "metadata": {},
     "output_type": "execute_result"
    }
   ],
   "source": [
    "m = df[df['opening'] == 0]\n",
    "m"
   ]
  },
  {
   "cell_type": "code",
   "execution_count": 19,
   "id": "0e76d529",
   "metadata": {},
   "outputs": [
    {
     "data": {
      "text/html": [
       "<div>\n",
       "<style scoped>\n",
       "    .dataframe tbody tr th:only-of-type {\n",
       "        vertical-align: middle;\n",
       "    }\n",
       "\n",
       "    .dataframe tbody tr th {\n",
       "        vertical-align: top;\n",
       "    }\n",
       "\n",
       "    .dataframe thead th {\n",
       "        text-align: right;\n",
       "    }\n",
       "</style>\n",
       "<table border=\"1\" class=\"dataframe\">\n",
       "  <thead>\n",
       "    <tr style=\"text-align: right;\">\n",
       "      <th></th>\n",
       "      <th>title</th>\n",
       "      <th>year</th>\n",
       "      <th>domestic_gross</th>\n",
       "      <th>foreign_gross</th>\n",
       "      <th>total_gross</th>\n",
       "      <th>budget</th>\n",
       "      <th>opening</th>\n",
       "      <th>distributor</th>\n",
       "      <th>mpaa</th>\n",
       "      <th>runtime</th>\n",
       "      <th>genre</th>\n",
       "      <th>director</th>\n",
       "      <th>star</th>\n",
       "    </tr>\n",
       "  </thead>\n",
       "  <tbody>\n",
       "  </tbody>\n",
       "</table>\n",
       "</div>"
      ],
      "text/plain": [
       "Empty DataFrame\n",
       "Columns: [title, year, domestic_gross, foreign_gross, total_gross, budget, opening, distributor, mpaa, runtime, genre, director, star]\n",
       "Index: []"
      ]
     },
     "execution_count": 19,
     "metadata": {},
     "output_type": "execute_result"
    }
   ],
   "source": [
    "m = df[df['runtime'] == 0]\n",
    "m"
   ]
  },
  {
   "cell_type": "code",
   "execution_count": null,
   "id": "9af4d019",
   "metadata": {},
   "outputs": [],
   "source": [
    "pipeline_lst = []\n",
    "url_base = 'https://www.boxofficemojo.com/year/{}/'\n",
    "url_list = [url_base.format(i) for i in range(2009,2020)]\n",
    "for url in url_list:\n",
    "    page = requests.get(url).text\n",
    "    soup = bs(page,'lxml')\n",
    "    for h in soup.find_all('a', href = re.compile('/release')): \n",
    "        link = h['href']\n",
    "        base = 'https://www.boxofficemojo.com'\n",
    "        \n",
    "        base +=link\n",
    "        pipeline_lst.append(base)\n",
    "        \n",
    "\n",
    "print(len(pipeline_lst))\n"
   ]
  },
  {
   "cell_type": "code",
   "execution_count": null,
   "id": "57c04d53",
   "metadata": {},
   "outputs": [],
   "source": [
    "def money_int(moneystr):\n",
    "    moneystr = moneystr.replace('$', '').replace(',', '')\n",
    "    return int(moneystr)\n",
    "\n",
    "def runtime_minutes(runtimestr):\n",
    "    s= runtimestr.split()\n",
    "    if len(s) == 4: \n",
    "\n",
    "        minutes = int(s[0])*60 + int(s[2])\n",
    "        return minutes\n",
    "    \n",
    "    else: \n",
    "        if len(s) == 2: \n",
    "            if 'hr' in s: \n",
    " \n",
    "                minutes = int(s[0])*60\n",
    "                return minutes\n",
    "\n",
    "            if 'min' in s:\n",
    "\n",
    "                minutes = s[0]\n",
    "                return minutes \n",
    "               \n"
   ]
  },
  {
   "cell_type": "code",
   "execution_count": null,
   "id": "4682324a",
   "metadata": {},
   "outputs": [],
   "source": [
    "#scrape into a dict\n",
    "    \n",
    "title = []\n",
    "year = []\n",
    "domestic_gross = []\n",
    "foreign_gross = []\n",
    "total_gross = []\n",
    "budget = []\n",
    "opening = []\n",
    "distributor=[]\n",
    "mpaa=[]\n",
    "runtime=[]\n",
    "genre=[]\n",
    "\n",
    "    \n",
    "    \n",
    "for a in pipeline_lst: \n",
    "    page = requests.get(a).text\n",
    "    soup = bs(page,'lxml')\n",
    "      \n",
    "    headers = ['title', 'year', 'domestic_gross', 'foreign_gross',\n",
    "               'total_gross', 'budget','opening'\n",
    "             ,'distributor', 'mpaa', 'runtime', 'genre']\n",
    "\n",
    "        #scrape title \n",
    "    try: \n",
    "        title_tag = soup.find('title').text\n",
    "        m_title = title_tag.split('-')[0].strip()\n",
    "        title.append(m_title)\n",
    "    except: \n",
    "        m_title = ''\n",
    "        title.append(m_title)\n",
    "\n",
    "        #scrape year\n",
    "    try: \n",
    "        m_year= (soup.find('span', text = re.compile('Release Date'))\n",
    "                        .find_next('a').text.split(',')[1].strip())\n",
    "        year.append(m_year)\n",
    "    except:\n",
    "        m_year= ''\n",
    "        year.append(m_year)\n",
    "        \n",
    "        #scrape domestic gross  \n",
    "    try: \n",
    "        domestic = (soup.find('span', class_='a-size-small')\n",
    "            .find_next('span', class_=\"a-size-medium a-text-bold\")\n",
    "            .find('span', class_='money').text)\n",
    "\n",
    "        domestic_m = money_int(domestic)\n",
    "        domestic_gross.append(domestic_m)\n",
    "    except: \n",
    "        domestic_m = ''\n",
    "        domestic_gross.append(domestic_m)\n",
    "\n",
    "        #scrape international gross\n",
    "    try: \n",
    "        int_gross_tag = (soup.find('span', class_=\"a-size-small\")\n",
    "                        .find_next('span', class_='a-size-small')\n",
    "                        .find_next('span', class_=\"a-size-medium a-text-bold\")\n",
    "                        .find('span', class_='money').text)\n",
    "        foreign_m = money_int(int_gross_tag)\n",
    "        foreign_gross.append(foreign_m)\n",
    "    except: \n",
    "        foreign_m = ''\n",
    "        foreign_gross.append(foreign_m)\n",
    "\n",
    "            #scrape total gross \n",
    "    try: \n",
    "        world_gross_tag = (soup.find('span', class_=\"a-size-small\")\n",
    "                          .find_next('span', class_='a-size-small')\n",
    "                          .find_next('span', class_='a-size-small')\n",
    "                          .find_next('span', class_=\"a-size-medium a-text-bold\")\n",
    "                          .find('span', class_='money').text)\n",
    "\n",
    "        world_m= money_int(world_gross_tag)\n",
    "        total_gross.append(world_m)\n",
    "    except: \n",
    "        world_m = ''\n",
    "        total_gross.append(world_m)\n",
    "        \n",
    "        #scrape budget \n",
    "    try:\n",
    "        budget_tag = (soup.find('span', text = re.compile('Budget'))\n",
    "                     .find_next('span', class_=\"money\").text)\n",
    "        \n",
    "        budget_m= money_int(budget_tag)\n",
    "        budget.append(budget_m)\n",
    "    except: \n",
    "        budget_m = ''\n",
    "        budget.append(budget_m)\n",
    "    \n",
    "    #scrape opening\n",
    "    try:\n",
    "        opening_tag = (soup.find('span', text= re.compile('Opening'))\n",
    "                      .find_next('span',class_=\"money\").text)\n",
    "        \n",
    "        opening_m = money_int(opening_tag)\n",
    "        opening.append(opening_m)\n",
    "    except: \n",
    "        opening_m = ''\n",
    "        opening.append(opening_m) \n",
    "\n",
    "        #scrape distributor \n",
    "    try: \n",
    "        distributor_m = (soup.find('span', text = 'Distributor')\n",
    "                               .find_next().text.replace('See full company information\\n\\n', ''))\n",
    "        distributor.append(distributor_m)\n",
    "    except: \n",
    "        distributor_m = ''       \n",
    "        distributor.append(distributor_m)\n",
    "      \n",
    "\n",
    "    # scrape MPAA\n",
    "    try: \n",
    "        rating_m =(soup.find('span', text = 'MPAA')\n",
    "                        .find_next('span').text)\n",
    "        mpaa.append(rating_m)\n",
    "    except: \n",
    "        rating_m = ''\n",
    "        mpaa.append(rating_m)\n",
    "\n",
    "\n",
    "                # scrape running time \n",
    "    try: \n",
    "        running_time =(soup.find('span', text = 'Running Time')\n",
    "                    .find_next('span').text)\n",
    "        \n",
    "        runtime_m= runtime_minutes(running_time)\n",
    "        \n",
    "        runtime.append(runtime_m)\n",
    "        \n",
    "    except: \n",
    "        runtime_m= ''\n",
    "        runtime.append(runtime_m)\n",
    "\n",
    "                #scrape Genre\n",
    "    try: \n",
    "        genre_m =(soup.find('span', text = 'Genres')\n",
    "                    .find_next('span').text.split()[0])\n",
    "        genre.append(genre_m)\n",
    "    except: \n",
    "        genre_m= ''\n",
    "\n",
    "        genre.append(genre_m)\n",
    "       \n",
    "    movie_dict = dict(zip(headers, [title,year, domestic_gross, foreign_gross, \n",
    "                                       total_gross, budget,opening, distributor, mpaa,\n",
    "                                      runtime, genre]))\n",
    "\n",
    "    \n"
   ]
  },
  {
   "cell_type": "code",
   "execution_count": null,
   "id": "1289d001",
   "metadata": {},
   "outputs": [],
   "source": [
    "movie_dict"
   ]
  },
  {
   "cell_type": "code",
   "execution_count": null,
   "id": "58383789",
   "metadata": {},
   "outputs": [],
   "source": [
    "df = pd.DataFrame(movie_dict)\n",
    "df.head()"
   ]
  },
  {
   "cell_type": "code",
   "execution_count": null,
   "id": "99acef7e",
   "metadata": {},
   "outputs": [],
   "source": [
    "#save df to pickle \n",
    "import pickle\n",
    "\n",
    "df.to_pickle('movie_no_clean.pkl')\n"
   ]
  },
  {
   "cell_type": "code",
   "execution_count": null,
   "id": "6d04e57e",
   "metadata": {},
   "outputs": [],
   "source": [
    "#read pickle file as dataframe \n",
    "\n",
    "movie_df = pd.read_pickle('movie_no_clean.pkl')"
   ]
  },
  {
   "cell_type": "code",
   "execution_count": null,
   "id": "def93879",
   "metadata": {},
   "outputs": [],
   "source": [
    "movie_df"
   ]
  },
  {
   "cell_type": "markdown",
   "id": "0bd56576",
   "metadata": {},
   "source": [
    "# Clean Data"
   ]
  },
  {
   "cell_type": "code",
   "execution_count": null,
   "id": "4338a6da",
   "metadata": {},
   "outputs": [],
   "source": [
    "movie_df.dtypes"
   ]
  },
  {
   "cell_type": "code",
   "execution_count": null,
   "id": "1fadcf32",
   "metadata": {},
   "outputs": [],
   "source": [
    "movie_df.info()"
   ]
  },
  {
   "cell_type": "code",
   "execution_count": null,
   "id": "590626cd",
   "metadata": {},
   "outputs": [],
   "source": [
    "#Nan values to 0\n",
    "\n",
    "import numpy as np\n",
    "movie_df.replace(np.nan, 0, inplace = True)\n",
    "\n",
    "movie_df.info()\n"
   ]
  },
  {
   "cell_type": "code",
   "execution_count": null,
   "id": "29fff4e8",
   "metadata": {},
   "outputs": [],
   "source": [
    "#check if any values are null \n",
    "movie_df.isnull().values.any()\n"
   ]
  },
  {
   "cell_type": "code",
   "execution_count": null,
   "id": "0968dbdf",
   "metadata": {},
   "outputs": [],
   "source": [
    "movie_df.replace('', 0, inplace = True)"
   ]
  },
  {
   "cell_type": "code",
   "execution_count": null,
   "id": "35d9fcc6",
   "metadata": {},
   "outputs": [],
   "source": [
    "#replace runtime as int \n",
    "\n",
    "movie_df['runtime']= movie_df['runtime'].astype('int64')\n",
    "\n",
    "\n",
    "\n",
    "movie_df.dtypes"
   ]
  },
  {
   "cell_type": "code",
   "execution_count": null,
   "id": "73bcb510",
   "metadata": {},
   "outputs": [],
   "source": [
    "movie_df.head()"
   ]
  },
  {
   "cell_type": "code",
   "execution_count": null,
   "id": "4da5619e",
   "metadata": {},
   "outputs": [],
   "source": [
    "movie_df.dtypes"
   ]
  },
  {
   "cell_type": "code",
   "execution_count": null,
   "id": "a4b1c7e1",
   "metadata": {},
   "outputs": [],
   "source": [
    "movie_df.shape"
   ]
  },
  {
   "cell_type": "code",
   "execution_count": null,
   "id": "132050d3",
   "metadata": {},
   "outputs": [],
   "source": [
    "#drop for duplicates\n",
    "movie_df = movie_df.drop_duplicates(subset=['title','year', 'runtime'])\n",
    "\n",
    "movie_df.shape\n",
    "\n"
   ]
  },
  {
   "cell_type": "code",
   "execution_count": null,
   "id": "da0c8b31",
   "metadata": {},
   "outputs": [],
   "source": [
    "# check unique values for distributor \n",
    "\n",
    "movie_df['distributor'].value_counts()"
   ]
  },
  {
   "cell_type": "code",
   "execution_count": null,
   "id": "89eb75cd",
   "metadata": {},
   "outputs": [],
   "source": [
    "#check if any movies have no distributor \n",
    "\n",
    "mask = movie_df[movie_df['distributor'] == 0]\n",
    "mask"
   ]
  },
  {
   "cell_type": "code",
   "execution_count": null,
   "id": "25df1fa0",
   "metadata": {},
   "outputs": [],
   "source": [
    "#drop distributor where it is 0 \n",
    "movie_df.drop(movie_df.index[movie_df['distributor'] == 0], inplace = True)\n",
    "movie_df.shape"
   ]
  },
  {
   "cell_type": "code",
   "execution_count": null,
   "id": "8011019b",
   "metadata": {},
   "outputs": [],
   "source": [
    "# check unique values for mpaa\n",
    "movie_df['mpaa'].value_counts()"
   ]
  },
  {
   "cell_type": "code",
   "execution_count": null,
   "id": "e7193637",
   "metadata": {},
   "outputs": [],
   "source": [
    "# replace 0 as not rated \n",
    "movie_df['mpaa'].replace(0,'Not Rated', inplace =True, regex = True)\n",
    "movie_df['mpaa'].value_counts()"
   ]
  },
  {
   "cell_type": "code",
   "execution_count": null,
   "id": "ec1cb14f",
   "metadata": {},
   "outputs": [],
   "source": [
    "# check unique values for genre\n",
    "\n",
    "movie_df['genre'].value_counts()"
   ]
  },
  {
   "cell_type": "code",
   "execution_count": null,
   "id": "5a46fa71",
   "metadata": {},
   "outputs": [],
   "source": [
    "#drop genre where it is 0\n",
    "\n",
    "movie_df.drop(movie_df.index[movie_df['genre']==0], inplace = True)\n",
    "movie_df.shape"
   ]
  },
  {
   "cell_type": "code",
   "execution_count": null,
   "id": "6fac069c",
   "metadata": {},
   "outputs": [],
   "source": [
    "#look into runtime\n",
    "\n",
    "movie_df['runtime'].value_counts()"
   ]
  },
  {
   "cell_type": "code",
   "execution_count": null,
   "id": "68ae18b8",
   "metadata": {},
   "outputs": [],
   "source": [
    "#check if any movies have no runtime\n",
    "\n",
    "mask = movie_df[movie_df['runtime'] == 0]\n",
    "mask"
   ]
  },
  {
   "cell_type": "code",
   "execution_count": null,
   "id": "6495f1d0",
   "metadata": {},
   "outputs": [],
   "source": [
    "#drop runtime where it is 0\n",
    "\n",
    "movie_df.drop(movie_df.index[movie_df['runtime']==0], inplace = True)\n",
    "movie_df.shape"
   ]
  },
  {
   "cell_type": "code",
   "execution_count": null,
   "id": "04281512",
   "metadata": {},
   "outputs": [],
   "source": [
    "#check if any movies have no profit and no budget\n",
    "\n",
    "mask = movie_df[ (movie_df['budget'] == 0) ] \n",
    "mask\n",
    "\n",
    "\n"
   ]
  },
  {
   "cell_type": "code",
   "execution_count": null,
   "id": "141bce57",
   "metadata": {},
   "outputs": [],
   "source": [
    "movie_df.shape"
   ]
  },
  {
   "cell_type": "code",
   "execution_count": null,
   "id": "0dc449ca",
   "metadata": {},
   "outputs": [],
   "source": [
    "movie_df.info()"
   ]
  },
  {
   "cell_type": "code",
   "execution_count": null,
   "id": "f747225e",
   "metadata": {},
   "outputs": [],
   "source": [
    "#save webscraped csv \n",
    "\n",
    "movie_df.to_csv('webscraped.csv', index = False)"
   ]
  },
  {
   "cell_type": "code",
   "execution_count": null,
   "id": "3dfe807f",
   "metadata": {},
   "outputs": [],
   "source": []
  },
  {
   "cell_type": "code",
   "execution_count": null,
   "id": "b28b5496",
   "metadata": {},
   "outputs": [],
   "source": []
  },
  {
   "cell_type": "code",
   "execution_count": null,
   "id": "b689d35f",
   "metadata": {},
   "outputs": [],
   "source": []
  },
  {
   "cell_type": "code",
   "execution_count": null,
   "id": "a21a7dcb",
   "metadata": {},
   "outputs": [],
   "source": []
  },
  {
   "cell_type": "code",
   "execution_count": null,
   "id": "bb20f19d",
   "metadata": {},
   "outputs": [],
   "source": []
  },
  {
   "cell_type": "code",
   "execution_count": null,
   "id": "6aa1ba1a",
   "metadata": {},
   "outputs": [],
   "source": []
  },
  {
   "cell_type": "code",
   "execution_count": null,
   "id": "e9a940d2",
   "metadata": {},
   "outputs": [],
   "source": []
  },
  {
   "cell_type": "code",
   "execution_count": null,
   "id": "090a8fc8",
   "metadata": {},
   "outputs": [],
   "source": []
  },
  {
   "cell_type": "code",
   "execution_count": null,
   "id": "880a0043",
   "metadata": {},
   "outputs": [],
   "source": []
  },
  {
   "cell_type": "code",
   "execution_count": null,
   "id": "ffe8676b",
   "metadata": {},
   "outputs": [],
   "source": []
  },
  {
   "cell_type": "code",
   "execution_count": null,
   "id": "eaa672d9",
   "metadata": {},
   "outputs": [],
   "source": []
  }
 ],
 "metadata": {
  "kernelspec": {
   "display_name": "Python 3 (regression)",
   "language": "python",
   "name": "regression"
  },
  "language_info": {
   "codemirror_mode": {
    "name": "ipython",
    "version": 3
   },
   "file_extension": ".py",
   "mimetype": "text/x-python",
   "name": "python",
   "nbconvert_exporter": "python",
   "pygments_lexer": "ipython3",
   "version": "3.9.12"
  }
 },
 "nbformat": 4,
 "nbformat_minor": 5
}
